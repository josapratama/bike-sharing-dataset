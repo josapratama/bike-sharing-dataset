{
 "cells": [
  {
   "cell_type": "markdown",
   "metadata": {},
   "source": [
    "# Proyek Analisis Data: [Input Nama Dataset]\n",
    "- **Nama:** [Josa Pratama]\n",
    "- **Email:** [pratamajosa1234@gmail.com]\n",
    "- **ID Dicoding:** [josapratama]"
   ]
  },
  {
   "cell_type": "markdown",
   "metadata": {},
   "source": [
    "## Menentukan Pertanyaan Bisnis"
   ]
  },
  {
   "cell_type": "markdown",
   "metadata": {},
   "source": [
    "- Pertanyaan 1 : Bagaimana dampak cuaca terhadap jumlah penyewaan sepeda?\n",
    "\n",
    "- Pertanyaan 2 : Bagaimana perbedaan penggunaan sepeda antara hari kerja dan akhir pekan?"
   ]
  },
  {
   "cell_type": "markdown",
   "metadata": {},
   "source": [
    "## Import Semua Packages/Library yang Digunakan"
   ]
  },
  {
   "cell_type": "code",
   "execution_count": 67,
   "metadata": {},
   "outputs": [],
   "source": [
    "import streamlit as st\n",
    "import pandas as pd\n",
    "import matplotlib.pyplot as plt\n",
    "import seaborn as sns"
   ]
  },
  {
   "cell_type": "markdown",
   "metadata": {},
   "source": [
    "## Data Wrangling"
   ]
  },
  {
   "cell_type": "markdown",
   "metadata": {},
   "source": [
    "### Gathering Data\n",
    "Bagian ini mencakup pengambilan dan penggabungan data dari sumber yang berbeda."
   ]
  },
  {
   "cell_type": "code",
   "execution_count": 68,
   "metadata": {},
   "outputs": [],
   "source": [
    "# Path ke data\n",
    "hour_data_path = './data/hour.csv'\n",
    "day_data_path = './data/day.csv'\n",
    "\n",
    "# Memuat dataset\n",
    "hour_data = pd.read_csv(hour_data_path)\n",
    "day_data = pd.read_csv(day_data_path)"
   ]
  },
  {
   "cell_type": "markdown",
   "metadata": {},
   "source": [
    "### Assessing Data\n",
    "Di sini, kita memeriksa data untuk memastikan kolom yang diperlukan tersedia dan menambahkan kolom tambahan untuk kebutuhan analisis."
   ]
  },
  {
   "cell_type": "code",
   "execution_count": 69,
   "metadata": {},
   "outputs": [],
   "source": [
    "# Menambahkan kolom sumber\n",
    "hour_data['source'] = 'hourly'\n",
    "day_data['source'] = 'daily'"
   ]
  },
  {
   "cell_type": "markdown",
   "metadata": {},
   "source": [
    "### Cleaning Data\n",
    "Pada tahap ini, kita memilih kolom yang diperlukan, menamai ulang kolom untuk konsistensi, dan menggabungkan kedua dataset."
   ]
  },
  {
   "cell_type": "code",
   "execution_count": 70,
   "metadata": {},
   "outputs": [],
   "source": [
    "# Memilih kolom yang diperlukan dan menamai ulang untuk konsistensi\n",
    "hour_data = hour_data[['dteday', 'season', 'yr', 'mnth', 'hr', 'holiday', 'weekday', 'workingday', 'weathersit', 'temp', 'atemp', 'hum', 'windspeed', 'casual', 'registered', 'cnt', 'source']]\n",
    "day_data = day_data[['dteday', 'season', 'yr', 'mnth', 'holiday', 'weekday', 'workingday', 'weathersit', 'temp', 'atemp', 'hum', 'windspeed', 'casual', 'registered', 'cnt', 'source']]\n",
    "\n",
    "# Menggabungkan data per jam dan per hari\n",
    "combined_data = pd.concat([hour_data, day_data], ignore_index=True)\n",
    "\n",
    "# Menyimpan ke CSV\n",
    "combined_data.to_csv('./dashboard/main_data.csv', index=False)"
   ]
  },
  {
   "cell_type": "markdown",
   "metadata": {},
   "source": [
    "## Exploratory Data Analysis (EDA)\n"
   ]
  },
  {
   "cell_type": "markdown",
   "metadata": {},
   "source": [
    "### Explore ..."
   ]
  },
  {
   "cell_type": "code",
   "execution_count": 71,
   "metadata": {},
   "outputs": [
    {
     "data": {
      "text/plain": [
       "DeltaGenerator()"
      ]
     },
     "execution_count": 71,
     "metadata": {},
     "output_type": "execute_result"
    }
   ],
   "source": [
    "# Memuat data\n",
    "file_path = './dashboard/main_data.csv'\n",
    "data = pd.read_csv(file_path)\n",
    "\n",
    "# 1. Melihat informasi umum dataset\n",
    "st.write(\"Informasi dataset:\")\n",
    "st.write(data.describe())  # `info()` tidak mengembalikan output, jadi kita bisa mengganti dengan `data.describe()` untuk Streamlit\n",
    "\n",
    "st.write(\"\\nStatistik deskriptif:\")\n",
    "st.write(data.describe())\n",
    "\n",
    "# 2. Memeriksa nilai yang hilang\n",
    "st.write(\"\\nJumlah nilai yang hilang di setiap kolom:\")\n",
    "st.write(data.isnull().sum())\n",
    "\n",
    "# 3. Visualisasi distribusi variabel numerik\n",
    "plt.figure(figsize=(14, 10))\n",
    "plt.subplot(2, 2, 1)\n",
    "sns.histplot(data['cnt'], kde=True)\n",
    "plt.title('Distribusi Jumlah Penyewaan Sepeda')\n",
    "\n",
    "plt.subplot(2, 2, 2)\n",
    "sns.histplot(data['temp'], kde=True)\n",
    "plt.title('Distribusi Suhu')\n",
    "\n",
    "plt.subplot(2, 2, 3)\n",
    "sns.histplot(data['hum'], kde=True)\n",
    "plt.title('Distribusi Kelembaban')\n",
    "\n",
    "plt.subplot(2, 2, 4)\n",
    "sns.histplot(data['windspeed'], kde=True)\n",
    "plt.title('Distribusi Kecepatan Angin')\n",
    "\n",
    "plt.tight_layout()\n",
    "st.pyplot(plt)  # Menggunakan st.pyplot untuk menampilkan plot di Streamlit\n",
    "\n",
    "# 4. Analisis korelasi\n",
    "numeric_data = data.select_dtypes(include=[float, int])\n",
    "plt.figure(figsize=(10, 8))\n",
    "correlation_matrix = numeric_data.corr()\n",
    "sns.heatmap(correlation_matrix, annot=True, cmap='coolwarm', linewidths=0.5)\n",
    "plt.title('Matriks Korelasi')\n",
    "st.pyplot(plt)  # Menggunakan st.pyplot untuk menampilkan plot di Streamlit\n",
    "\n",
    "# 5. Analisis Berdasarkan Kategori (Weathersit dan Workingday)\n",
    "plt.figure(figsize=(14, 6))\n",
    "plt.subplot(1, 2, 1)\n",
    "sns.boxplot(x='weathersit', y='cnt', data=data)\n",
    "plt.title('Jumlah Penyewaan Berdasarkan Kondisi Cuaca')\n",
    "\n",
    "plt.subplot(1, 2, 2)\n",
    "sns.boxplot(x='workingday', y='cnt', data=data)\n",
    "plt.title('Jumlah Penyewaan Berdasarkan Tipe Hari')\n",
    "\n",
    "plt.tight_layout()\n",
    "st.pyplot(plt)  # Menggunakan st.pyplot untuk menampilkan plot di Streamlit"
   ]
  },
  {
   "cell_type": "markdown",
   "metadata": {},
   "source": [
    "## Visualization & Explanatory Analysis"
   ]
  },
  {
   "cell_type": "markdown",
   "metadata": {},
   "source": [
    "### Pertanyaan 1:"
   ]
  },
  {
   "cell_type": "code",
   "execution_count": 72,
   "metadata": {},
   "outputs": [],
   "source": [
    "# Define constants\n",
    "WEATHER_IMPACT_TITLE = \"Dampak Cuaca Terhadap Penyewaan Sepeda\"\n",
    "\n",
    "# Path ke data\n",
    "file_path = 'dashboard/main_data.csv'\n",
    "\n",
    "# Memuat dataset\n",
    "data = pd.read_csv(file_path)\n",
    "\n",
    "# Pilihan visualisasi\n",
    "st.write(WEATHER_IMPACT_TITLE)\n",
    "\n",
    "if 'weathersit' in data.columns and 'cnt' in data.columns:\n",
    "    # Agregasi data berdasarkan kondisi cuaca\n",
    "    weather_data = data[['weathersit', 'cnt']].groupby('weathersit').sum().reset_index()\n",
    "    \n",
    "    # Membuat grafik\n",
    "    plt.figure(figsize=(10, 6))\n",
    "    plt.bar(weather_data['weathersit'], weather_data['cnt'])\n",
    "    plt.xlabel('Kondisi Cuaca')\n",
    "    plt.ylabel('Jumlah Penyewaan')\n",
    "    plt.title('Jumlah Penyewaan Sepeda Berdasarkan Kondisi Cuaca')\n",
    "    st.pyplot(plt)\n",
    "else:\n",
    "    st.write(\"Kolom 'weathersit' atau 'cnt' tidak ditemukan dalam dataset.\")"
   ]
  },
  {
   "cell_type": "markdown",
   "metadata": {},
   "source": [
    "### Pertanyaan 2:"
   ]
  },
  {
   "cell_type": "code",
   "execution_count": 73,
   "metadata": {},
   "outputs": [],
   "source": [
    "# Define constants\n",
    "WEEKDAY_WEEKEND_DIFFERENCE_TITLE = \"Perbedaan Penggunaan Sepeda antara Hari Kerja dan Akhir Pekan\"\n",
    "\n",
    "# Path ke data\n",
    "file_path = 'dashboard/main_data.csv'\n",
    "\n",
    "# Memuat dataset\n",
    "data = pd.read_csv(file_path)\n",
    "\n",
    "# Pilihan visualisasi\n",
    "st.write(WEEKDAY_WEEKEND_DIFFERENCE_TITLE)\n",
    "\n",
    "if 'workingday' in data.columns and 'cnt' in data.columns:\n",
    "    # Agregasi data berdasarkan hari kerja\n",
    "    usage_data = data[['workingday', 'cnt']].groupby('workingday').sum().reset_index()\n",
    "    usage_data['workingday'] = usage_data['workingday'].map({0: 'Akhir Pekan', 1: 'Hari Kerja'})\n",
    "    \n",
    "    # Membuat grafik\n",
    "    plt.figure(figsize=(10, 6))\n",
    "    plt.bar(usage_data['workingday'], usage_data['cnt'])\n",
    "    plt.xlabel('Tipe Hari')\n",
    "    plt.ylabel('Jumlah Penyewaan')\n",
    "    plt.title('Jumlah Penyewaan Sepeda Berdasarkan Tipe Hari')\n",
    "    st.pyplot(plt)\n",
    "else:\n",
    "    st.write(\"Kolom 'workingday' atau 'cnt' tidak ditemukan dalam dataset.\")"
   ]
  },
  {
   "cell_type": "markdown",
   "metadata": {},
   "source": [
    "## Conclusion"
   ]
  },
  {
   "cell_type": "markdown",
   "metadata": {},
   "source": [
    "### 1. Dampak Cuaca terhadap Jumlah Penyewaan Sepeda\n",
    "\n",
    "Visualisasi data mengenai dampak cuaca terhadap jumlah penyewaan sepeda memberikan beberapa wawasan penting:\n",
    "\n",
    "- **Distribusi Jumlah Penyewaan Berdasarkan Cuaca**: Melalui **Box Plot**, terlihat bahwa jumlah penyewaan sepeda memiliki distribusi yang lebih tinggi pada kondisi cuaca cerah dibandingkan dengan mendung atau hujan. Ini menunjukkan bahwa pengguna lebih cenderung menyewa sepeda ketika cuaca baik.\n",
    "  \n",
    "- **Rata-rata Penyewaan Sepeda**: **Bar Chart** yang menggambarkan rata-rata jumlah penyewaan sepeda berdasarkan kondisi cuaca mengungkapkan bahwa penyewaan meningkat pada hari-hari cerah dan menurun saat cuaca mendung atau hujan. Hal ini menunjukkan bahwa kondisi cuaca yang baik memotivasi lebih banyak orang untuk menyewa sepeda, sementara cuaca buruk mengurangi jumlah penyewaan.\n",
    "\n",
    "**Insight**: Cuaca memiliki pengaruh signifikan terhadap keputusan pengguna untuk menyewa sepeda. Untuk meningkatkan jumlah penyewaan pada hari-hari dengan cuaca buruk, strategi pemasaran atau promosi khusus dapat diterapkan.\n",
    "\n",
    "### 2. Perbedaan Penggunaan Sepeda antara Hari Kerja dan Akhir Pekan\n",
    "\n",
    "Visualisasi yang membandingkan penggunaan sepeda antara hari kerja dan akhir pekan menunjukkan:\n",
    "\n",
    "- **Jumlah Penyewaan Sepeda**: Berdasarkan **Bar Chart**, rata-rata jumlah penyewaan sepeda lebih tinggi pada hari kerja dibandingkan dengan akhir pekan. Ini mungkin menunjukkan bahwa sepeda lebih banyak digunakan untuk kegiatan sehari-hari, seperti perjalanan ke tempat kerja, selama hari kerja.\n",
    "\n",
    "**Insight**: Penggunaan sepeda cenderung lebih tinggi selama hari kerja dibandingkan dengan akhir pekan. Dengan memahami pola ini, Anda dapat menyesuaikan penawaran dan promosi untuk memenuhi kebutuhan pengguna pada waktu-waktu tertentu."
   ]
  }
 ],
 "metadata": {
  "kernelspec": {
   "display_name": "Python 3",
   "language": "python",
   "name": "python3"
  },
  "language_info": {
   "codemirror_mode": {
    "name": "ipython",
    "version": 3
   },
   "file_extension": ".py",
   "mimetype": "text/x-python",
   "name": "python",
   "nbconvert_exporter": "python",
   "pygments_lexer": "ipython3",
   "version": "3.12.3"
  }
 },
 "nbformat": 4,
 "nbformat_minor": 2
}
